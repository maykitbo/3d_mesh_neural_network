{
 "cells": [
  {
   "cell_type": "code",
   "execution_count": 65,
   "metadata": {},
   "outputs": [],
   "source": [
    "import open3d as o3d\n",
    "import os\n",
    "\n",
    "\n",
    "\n",
    "raw_dir = 'datasets/Thingi10K/raw_meshes/'\n",
    "graph_dir = 'datasets/Thingi10K/graphs/'\n",
    "\n",
    "\n",
    "TARGET_SIZE = 5000\n",
    "\n",
    "\n",
    "def raw_data_file_path(id: int) -> str:\n",
    "    return f'{raw_dir}{id}'\n",
    "\n",
    "\n",
    "def all_raw_files():\n",
    "    return [f for f in os.listdir(raw_dir) if f.endswith(\".stl\")]\n",
    "\n",
    "\n",
    "def get_mesh(file_path):\n",
    "    return o3d.io.read_triangle_mesh(file_path)"
   ]
  },
  {
   "cell_type": "code",
   "execution_count": 49,
   "metadata": {},
   "outputs": [
    {
     "name": "stderr",
     "output_type": "stream",
     "text": [
      "Processing STL Files: 100%|██████████| 500/500 [00:28<00:00, 17.32it/s]\n"
     ]
    }
   ],
   "source": [
    "from tqdm import tqdm\n",
    "import random\n",
    "\n",
    "def data_loader(mesh_count: int | None = None):\n",
    "    stl_files = all_raw_files()\n",
    "    if mesh_count == None:\n",
    "        mesh_count = len(stl_files)\n",
    "    else:\n",
    "        random.shuffle(stl_files)\n",
    "\n",
    "    meshes = []\n",
    "\n",
    "    for i in tqdm(range(mesh_count), desc=\"Processing STL Files\"):\n",
    "        file_path = os.path.join(raw_dir, stl_files[i])\n",
    "        try:\n",
    "            meshes.append(get_mesh(file_path))\n",
    "        except Exception as inst:\n",
    "            print('Error with ', file_path)\n",
    "            print(inst)\n",
    "    \n",
    "    return meshes\n",
    "\n",
    "mesh_data = data_loader(500)\n"
   ]
  },
  {
   "cell_type": "code",
   "execution_count": 66,
   "metadata": {},
   "outputs": [],
   "source": [
    "import numpy as np\n",
    "\n",
    "\n",
    "def draw_multiple_meshes(mesh_list):\n",
    "    for i, (mesh, color) in enumerate(zip(mesh_list, [[1, 0, 0], [0, 1, 0]])):\n",
    "        translation = np.array([i * max(mesh.get_max_bound() - mesh.get_min_bound()) * 1.2, 0, 0])\n",
    "        mesh.translate(translation, relative=False)\n",
    "\n",
    "        mesh.paint_uniform_color(color)\n",
    "    \n",
    "    # Draw all meshes in one window\n",
    "    o3d.visualization.draw_geometries(mesh_list, mesh_show_wireframe=True)"
   ]
  },
  {
   "cell_type": "code",
   "execution_count": 94,
   "metadata": {},
   "outputs": [
    {
     "name": "stdout",
     "output_type": "stream",
     "text": [
      "original size =  298 612\n",
      "new size =  298 612\n"
     ]
    }
   ],
   "source": [
    "import pymeshlab\n",
    "\n",
    "\n",
    "def preprocess_mesh(mesh, target_vertices=TARGET_SIZE, simplification_ratio=0.1):\n",
    "    \n",
    "    # Normalize mesh to be centered at the origin and fit inside a unit sphere\n",
    "    mesh = mesh.translate(-mesh.get_center())\n",
    "    mesh.scale(1 / np.max(mesh.get_max_bound() - mesh.get_min_bound()), center=mesh.get_center())\n",
    "\n",
    "    # # Calculate the number of vertices to remove\n",
    "    # num_vertices_to_reduce = len(mesh.triangles) - target_vertices\n",
    "    # num_simplification_steps = int(num_vertices_to_reduce * simplification_ratio)\n",
    "\n",
    "    # # Perform simplification in steps\n",
    "    # for _ in range(num_simplification_steps):\n",
    "    #     mesh = mesh.simplify_quadric_decimation(target_number_of_triangles=len(mesh.triangles) - num_vertices_to_reduce)\n",
    "    #     # Check for potential errors or stopping conditions\n",
    "    #     if len(mesh.triangles) <= target_vertices:\n",
    "    #         break\n",
    "    # mesh = mesh.simplify_quadric_decimation(target_number_of_triangles=TARGET_SIZE)\n",
    "\n",
    "    o3d.io.write_triangle_mesh(\"path_to_save.obj\", mesh)\n",
    "\n",
    "    numFaces = 100 + 2*TARGET_SIZE\n",
    "\n",
    "    ms = pymeshlab.MeshSet()\n",
    "    ms.load_new_mesh(\"path_to_save.obj\")\n",
    "\n",
    "    # pymeshlab.print_filter_list()\n",
    "\n",
    "    while (ms.current_mesh().vertex_number() > TARGET_SIZE):\n",
    "        ms.apply_filter('meshing_decimation_quadric_edge_collapse', targetfacenum=numFaces, preservenormal=True)\n",
    "        print(\"Decimated to\", numFaces, \"faces mesh has\", ms.current_mesh().vertex_number(), \"vertex\")\n",
    "        #Refine our estimation to slowly converge to TARGET vertex number\n",
    "        numFaces = numFaces - (ms.current_mesh().vertex_number() - TARGET_SIZE)\n",
    "\n",
    "    # Assuming 'ms' is your PyMeshLab MeshSet with the mesh loaded\n",
    "    ms.save_current_mesh(\"path_to_export.obj\")\n",
    "\n",
    "    # Read the mesh file into Open3D\n",
    "    mesh = o3d.io.read_triangle_mesh(\"path_to_export.obj\")\n",
    "\n",
    "    return mesh\n",
    "\n",
    "\n",
    "meshes = [random.choice(mesh_data)]\n",
    "meshes.append(preprocess_mesh(meshes[0]))\n",
    "\n",
    "print('original size = ', len(meshes[0].vertices), len(meshes[0].triangles))\n",
    "print('new size = ', len(meshes[1].vertices), len(meshes[1].triangles))\n",
    "\n",
    "draw_multiple_meshes(meshes)\n",
    "\n",
    "\n",
    "# o3d.visualization.draw_geometries([meshes[0]])\n",
    "# o3d.visualization.draw_geometries([meshes[1]])\n",
    "\n",
    "\n"
   ]
  }
 ],
 "metadata": {
  "kernelspec": {
   "display_name": "venv",
   "language": "python",
   "name": "python3"
  },
  "language_info": {
   "codemirror_mode": {
    "name": "ipython",
    "version": 3
   },
   "file_extension": ".py",
   "mimetype": "text/x-python",
   "name": "python",
   "nbconvert_exporter": "python",
   "pygments_lexer": "ipython3",
   "version": "3.11.6"
  }
 },
 "nbformat": 4,
 "nbformat_minor": 2
}
