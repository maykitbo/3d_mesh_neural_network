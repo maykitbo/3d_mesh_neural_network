{
 "cells": [
  {
   "cell_type": "code",
   "execution_count": 77,
   "metadata": {},
   "outputs": [],
   "source": [
    "import torch\n",
    "import open3d as o3d\n",
    "import os\n",
    "import json\n",
    "\n",
    "def load_data(base_path):\n",
    "    data = {'train': [], 'dev': []}\n",
    "\n",
    "    for class_name in os.listdir(os.path.join(base_path, 'abo-part-labels')):\n",
    "        for dataset_type in ['train', 'dev']:\n",
    "            data_path = os.path.join(base_path, f'abo-part-labels/{class_name}/{dataset_type}')\n",
    "            if not os.path.isdir(data_path):\n",
    "                continue\n",
    "\n",
    "            for id1 in os.listdir(data_path):\n",
    "                meshes_struct = {'cc': {}, 'convex': {}}\n",
    "\n",
    "                for mesh_type in ['cc', 'convex']:\n",
    "\n",
    "                    cc_path = os.path.join(data_path, id1, mesh_type)\n",
    "                    if os.path.isdir(cc_path):\n",
    "                        for file in os.listdir(cc_path):\n",
    "                            if file.endswith('.obj'):\n",
    "                                file_path = os.path.join(cc_path, file)\n",
    "                                # mesh = trimesh.load(file_path)\n",
    "                                mesh = o3d.io.read_triangle_model(file_path)\n",
    "                                id3 = file.split('.')[0]\n",
    "                                meshes_struct[mesh_type][int(id3)] = mesh\n",
    "\n",
    "                data[dataset_type].append((meshes_struct, class_name, id1))\n",
    "\n",
    "    return data['train'], data['dev']\n",
    "\n",
    "raw_mashes_data_train, raw_mashes_data_valid = load_data('datasets')"
   ]
  },
  {
   "cell_type": "code",
   "execution_count": 63,
   "metadata": {},
   "outputs": [
    {
     "name": "stdout",
     "output_type": "stream",
     "text": [
      "{'cc': {2: <trimesh.Trimesh(vertices.shape=(3081, 3), faces.shape=(6035, 3), name=`2.obj`)>, 1: <trimesh.Trimesh(vertices.shape=(1250, 3), faces.shape=(2496, 3), name=`1.obj`)>, 0: <trimesh.Trimesh(vertices.shape=(961, 3), faces.shape=(1795, 3), name=`0.obj`)>, 3: <trimesh.Trimesh(vertices.shape=(2670, 3), faces.shape=(5336, 3), name=`3.obj`)>, 6: <trimesh.Trimesh(vertices.shape=(170, 3), faces.shape=(336, 3), name=`6.obj`)>, 4: <trimesh.Trimesh(vertices.shape=(170, 3), faces.shape=(336, 3), name=`4.obj`)>, 5: <trimesh.Trimesh(vertices.shape=(170, 3), faces.shape=(336, 3), name=`5.obj`)>, 7: <trimesh.Trimesh(vertices.shape=(170, 3), faces.shape=(336, 3), name=`7.obj`)>}, 'convex': {2: <trimesh.Trimesh(vertices.shape=(94, 3), faces.shape=(184, 3), name=`2.obj`)>, 10: <trimesh.Trimesh(vertices.shape=(170, 3), faces.shape=(336, 3), name=`10.obj`)>, 12: <trimesh.Trimesh(vertices.shape=(170, 3), faces.shape=(336, 3), name=`12.obj`)>, 8: <trimesh.Trimesh(vertices.shape=(779, 3), faces.shape=(1554, 3), name=`8.obj`)>, 1: <trimesh.Trimesh(vertices.shape=(32, 3), faces.shape=(60, 3), name=`1.obj`)>, 0: <trimesh.Trimesh(vertices.shape=(102, 3), faces.shape=(200, 3), name=`0.obj`)>, 3: <trimesh.Trimesh(vertices.shape=(717, 3), faces.shape=(1430, 3), name=`3.obj`)>, 6: <trimesh.Trimesh(vertices.shape=(373, 3), faces.shape=(742, 3), name=`6.obj`)>, 4: <trimesh.Trimesh(vertices.shape=(258, 3), faces.shape=(512, 3), name=`4.obj`)>, 5: <trimesh.Trimesh(vertices.shape=(259, 3), faces.shape=(514, 3), name=`5.obj`)>, 9: <trimesh.Trimesh(vertices.shape=(170, 3), faces.shape=(336, 3), name=`9.obj`)>, 11: <trimesh.Trimesh(vertices.shape=(170, 3), faces.shape=(336, 3), name=`11.obj`)>, 7: <trimesh.Trimesh(vertices.shape=(159, 3), faces.shape=(314, 3), name=`7.obj`)>}}\n"
     ]
    }
   ],
   "source": [
    "print(raw_mashes_data_train[0][0])"
   ]
  },
  {
   "cell_type": "code",
   "execution_count": 69,
   "metadata": {},
   "outputs": [
    {
     "name": "stdout",
     "output_type": "stream",
     "text": [
      "625\n"
     ]
    }
   ],
   "source": [
    "import numpy as np\n",
    "import visualization\n",
    "\n",
    "\n",
    "def connect_mesh(mesh_struct, base_path, dataset_type):\n",
    "    relation_path = f'{base_path}/abo-part-labels/{mesh_struct[1]}/{dataset_type}/{mesh_struct[2]}/relation.json'\n",
    "    combined_mesh = None\n",
    "\n",
    "    if os.path.exists(relation_path):\n",
    "        with open(relation_path, 'r') as file:\n",
    "            relations = json.load(file)\n",
    "\n",
    "        cc_to_convex = relations['cc_to_convex']\n",
    "\n",
    "        for cc_index, convex_indices in enumerate(cc_to_convex):\n",
    "            cc_mesh = mesh_struct[0]['cc'].get(cc_index)\n",
    "            for convex_index in convex_indices:\n",
    "                convex_mesh = mesh_struct[0]['convex'].get(convex_index)\n",
    "                if cc_mesh and convex_mesh:\n",
    "                    # Combine cc_mesh and convex_mesh\n",
    "                    if combined_mesh is None:\n",
    "                        combined_mesh = cc_mesh + convex_mesh\n",
    "                    else:\n",
    "                        combined_mesh += cc_mesh + convex_mesh\n",
    "\n",
    "    return combined_mesh\n",
    "\n",
    "ri = np.random.randint(0, len(raw_mashes_data_train))\n",
    "print(ri)\n",
    "\n",
    "connected_mesh = connect_mesh(raw_mashes_data_train[ri], 'datasets', 'train')\n",
    "\n",
    "visualization.draw_meshes([connected_mesh])\n",
    "\n",
    "# Usage\n",
    "# raw_meshes_data_train, raw_meshes_data_valid = load_data('datasets')\n",
    "# all_data = {'train': raw_meshes_data_train, 'dev': raw_meshes_data_valid}\n",
    "# connect_mesh(all_data, 'datasets')\n"
   ]
  },
  {
   "cell_type": "code",
   "execution_count": 74,
   "metadata": {},
   "outputs": [
    {
     "name": "stdout",
     "output_type": "stream",
     "text": [
      "1199\n",
      "{2: <trimesh.Trimesh(vertices.shape=(520, 3), faces.shape=(960, 3), name=`2.obj`)>, 13: <trimesh.Trimesh(vertices.shape=(1704, 3), faces.shape=(3404, 3), name=`13.obj`)>, 14: <trimesh.Trimesh(vertices.shape=(1160, 3), faces.shape=(2240, 3), name=`14.obj`)>, 10: <trimesh.Trimesh(vertices.shape=(301, 3), faces.shape=(580, 3), name=`10.obj`)>, 12: <trimesh.Trimesh(vertices.shape=(589, 3), faces.shape=(1144, 3), name=`12.obj`)>, 8: <trimesh.Trimesh(vertices.shape=(1093, 3), faces.shape=(2144, 3), name=`8.obj`)>, 1: <trimesh.Trimesh(vertices.shape=(580, 3), faces.shape=(1130, 3), name=`1.obj`)>, 0: <trimesh.Trimesh(vertices.shape=(960, 3), faces.shape=(1890, 3), name=`0.obj`)>, 3: <trimesh.Trimesh(vertices.shape=(266, 3), faces.shape=(528, 3), name=`3.obj`)>, 6: <trimesh.Trimesh(vertices.shape=(592, 3), faces.shape=(1150, 3), name=`6.obj`)>, 4: <trimesh.Trimesh(vertices.shape=(1184, 3), faces.shape=(2288, 3), name=`4.obj`)>, 5: <trimesh.Trimesh(vertices.shape=(1120, 3), faces.shape=(2080, 3), name=`5.obj`)>, 9: <trimesh.Trimesh(vertices.shape=(401, 3), faces.shape=(780, 3), name=`9.obj`)>, 11: <trimesh.Trimesh(vertices.shape=(1200, 3), faces.shape=(2240, 3), name=`11.obj`)>, 7: <trimesh.Trimesh(vertices.shape=(3989, 3), faces.shape=(7974, 3), name=`7.obj`)>}\n",
      "<class 'dict'>\n"
     ]
    }
   ],
   "source": [
    "\n",
    "ri = np.random.randint(0, len(raw_mashes_data_train))\n",
    "print(ri)\n",
    "\n",
    "def show_mesh(element):\n",
    "    print(element[0]['cc'])\n",
    "    print(type(element[0]['cc']))\n",
    "    meshes = [mesh for _, mesh in element[0]['cc'].items()]\n",
    "    meshes.append(connect_mesh(element, 'datasets', 'train'))\n",
    "    # meshes = []\n",
    "    # for mesh in element[0]['cc']:\n",
    "        # print(mesh)\n",
    "\n",
    "\n",
    "    # mesh = visualization.trimesh_to_open3d(element[0]['cc'][1])\n",
    "    visualization.draw_meshes(meshes)\n",
    "    # print(element[1])\n",
    "\n",
    "\n",
    "show_mesh(raw_mashes_data_train[ri])"
   ]
  },
  {
   "cell_type": "code",
   "execution_count": 76,
   "metadata": {},
   "outputs": [
    {
     "data": {
      "image/png": "[encoded data removed]",
      "text/plain": [
       "<Figure size 640x480 with 1 Axes>"
      ]
     },
     "metadata": {},
     "output_type": "display_data"
    },
    {
     "data": {
      "text/plain": [
       "{'chair': 988, 'lamp': 373, 'bed': 279, 'storage_furniture': 145, 'table': 509}"
      ]
     },
     "execution_count": 76,
     "metadata": {},
     "output_type": "execute_result"
    }
   ],
   "source": [
    "visualization.class_distribution(raw_mashes_data_train,\n",
    "                            lambda data: data[1])"
   ]
  },
  {
   "cell_type": "code",
   "execution_count": null,
   "metadata": {},
   "outputs": [],
   "source": []
  }
 ],
 "metadata": {
  "kernelspec": {
   "display_name": "venv",
   "language": "python",
   "name": "python3"
  },
  "language_info": {
   "codemirror_mode": {
    "name": "ipython",
    "version": 3
   },
   "file_extension": ".py",
   "mimetype": "text/x-python",
   "name": "python",
   "nbconvert_exporter": "python",
   "pygments_lexer": "ipython3",
   "version": "3.11.6"
  }
 },
 "nbformat": 4,
 "nbformat_minor": 2
}
